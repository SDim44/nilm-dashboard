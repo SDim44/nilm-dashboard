{
 "cells": [
  {
   "cell_type": "code",
   "execution_count": 28,
   "metadata": {},
   "outputs": [
    {
     "data": {
      "text/plain": [
       "[101000,\n",
       " 85300,\n",
       " 96000,\n",
       " 90500,\n",
       " 96000,\n",
       " 20000,\n",
       " 20000,\n",
       " 16000,\n",
       " 16000,\n",
       " 16000,\n",
       " 16000,\n",
       " 20000]"
      ]
     },
     "execution_count": 28,
     "metadata": {},
     "output_type": "execute_result"
    }
   ],
   "source": [
    "import pandas as pd\n",
    "\n",
    "import os\n",
    "BASEDIR = os.getcwd()\n",
    "df = pd.read_csv(os.path.join(BASEDIR,\"app\",\"static\",\"uploads\",\"20230602-183306_washingmachine.csv\"),sep=';')\n",
    "df['Date'] = pd.to_datetime(df['Date'])\n",
    "df = df.set_index('Date')\n",
    "monthly_sum = df['Wh'].resample('M').sum()\n",
    "monthly_sum.index = monthly_sum.index.strftime('%b')\n",
    "\n",
    "labels = monthly_sum.index.to_list()\n",
    "values = monthly_sum.values.tolist()\n",
    "\n",
    "# labels\n",
    "# values\n"
   ]
  },
  {
   "cell_type": "code",
   "execution_count": 34,
   "metadata": {},
   "outputs": [
    {
     "data": {
      "text/plain": [
       "49400.0"
      ]
     },
     "execution_count": 34,
     "metadata": {},
     "output_type": "execute_result"
    }
   ],
   "source": [
    "round(monthly_sum.values.mean(),2)"
   ]
  },
  {
   "cell_type": "code",
   "execution_count": 36,
   "metadata": {},
   "outputs": [
    {
     "data": {
      "text/plain": [
       "395.2"
      ]
     },
     "execution_count": 36,
     "metadata": {},
     "output_type": "execute_result"
    }
   ],
   "source": [
    "round(monthly_sum.values.sum()*0.008/12,2)"
   ]
  }
 ],
 "metadata": {
  "kernelspec": {
   "display_name": "base",
   "language": "python",
   "name": "python3"
  },
  "language_info": {
   "codemirror_mode": {
    "name": "ipython",
    "version": 3
   },
   "file_extension": ".py",
   "mimetype": "text/x-python",
   "name": "python",
   "nbconvert_exporter": "python",
   "pygments_lexer": "ipython3",
   "version": "3.9.7"
  },
  "orig_nbformat": 4
 },
 "nbformat": 4,
 "nbformat_minor": 2
}

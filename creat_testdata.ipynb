{
 "cells": [
  {
   "cell_type": "code",
   "execution_count": 4,
   "metadata": {},
   "outputs": [
    {
     "data": {
      "text/plain": [
       "2014-10-15 00:00:00+01:00    157.539001\n",
       "2014-10-15 00:00:10+01:00    159.354004\n",
       "2014-10-15 00:00:20+01:00    165.098999\n",
       "2014-10-15 00:00:30+01:00    166.899002\n",
       "2014-10-15 00:00:40+01:00    163.246002\n",
       "Freq: 10S, Name: active, dtype: float32"
      ]
     },
     "execution_count": 4,
     "metadata": {},
     "output_type": "execute_result"
    }
   ],
   "source": [
    "import nilmtk\n",
    "import os\n",
    "import numpy as np\n",
    "\n",
    "DATA_PATH = 'C:\\\\Users\\\\stefa\\\\OneDrive - FHWN\\\\Privat\\\\Studium\\\\MIT_2-Semester\\\\case_study\\\\lession1\\\\datasets\\\\ukdale2.h5'\n",
    "building = 5\n",
    "start_time = '2014-10-15'\n",
    "end_time = '2014-10-18'\n",
    "sample_period = 10\n",
    "\n",
    "CSVPATH = f'app\\\\static\\\\uploads\\\\mains_{building}_{start_time}_{end_time}.csv'\n",
    "\n",
    "ukdale = nilmtk.DataSet(DATA_PATH)\n",
    "ukdale.set_window(start=start_time, end=end_time)\n",
    "main = next(ukdale.buildings[1].elec.mains().load(sample_period=sample_period))\n",
    "aggregate = main['power']['active']\n",
    "aggregate.to_csv(CSVPATH,header=False)\n",
    "aggregate.head(n=5)\n",
    "\n"
   ]
  }
 ],
 "metadata": {
  "kernelspec": {
   "display_name": "casestudy2",
   "language": "python",
   "name": "python3"
  },
  "language_info": {
   "codemirror_mode": {
    "name": "ipython",
    "version": 3
   },
   "file_extension": ".py",
   "mimetype": "text/x-python",
   "name": "python",
   "nbconvert_exporter": "python",
   "pygments_lexer": "ipython3",
   "version": "3.8.16"
  },
  "orig_nbformat": 4
 },
 "nbformat": 4,
 "nbformat_minor": 2
}

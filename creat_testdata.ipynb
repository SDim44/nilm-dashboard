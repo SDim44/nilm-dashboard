{
 "cells": [
  {
   "cell_type": "code",
   "execution_count": 51,
   "metadata": {},
   "outputs": [
    {
     "data": {
      "text/plain": [
       "2023-04-15 00:00:00+01:00    2514.305908\n",
       "2023-04-15 00:00:10+01:00    2514.761963\n",
       "2023-04-15 00:00:20+01:00    2516.089111\n",
       "2023-04-15 00:00:30+01:00    2518.035156\n",
       "2023-04-15 00:00:40+01:00    2519.340088\n",
       "                                ...     \n",
       "2023-04-29 23:59:10+01:00     270.151001\n",
       "2023-04-29 23:59:20+01:00     270.214996\n",
       "2023-04-29 23:59:30+01:00     270.742981\n",
       "2023-04-29 23:59:40+01:00     271.509003\n",
       "2023-04-29 23:59:50+01:00     271.177002\n",
       "Name: active, Length: 129600, dtype: float32"
      ]
     },
     "execution_count": 51,
     "metadata": {},
     "output_type": "execute_result"
    }
   ],
   "source": [
    "import nilmtk\n",
    "import os\n",
    "import numpy as np\n",
    "import pandas as pd\n",
    "\n",
    "DATA_PATH = 'C:\\\\Users\\\\stefa\\\\OneDrive - FHWN\\\\Privat\\\\Studium\\\\MIT_2-Semester\\\\case_study\\\\lession1\\\\datasets\\\\ukdale2.h5'\n",
    "building = 5\n",
    "sample_period = 10\n",
    "add_years = 7\n",
    "\n",
    "start_time = '2016-04-15'\n",
    "end_time = '2016-04-30'\n",
    "\n",
    "start = start_time.replace('2016-','2023-')\n",
    "end = end_time.replace('2016-','2023-')\n",
    "\n",
    "CSVPATH = f'app\\\\static\\\\uploads\\\\test\\\\mains_{building}_{start}_{end}.csv'\n",
    "\n",
    "ukdale = nilmtk.DataSet(DATA_PATH)\n",
    "ukdale.set_window(start=start_time, end=end_time)\n",
    "main = next(ukdale.buildings[1].elec.mains().load(sample_period=sample_period))\n",
    "main.index = main.index + pd.DateOffset(years=add_years)\n",
    "aggregate = main['power']['active']\n",
    "\n",
    "aggregate.to_csv(CSVPATH,header=False)\n",
    "aggregate#.head(n=5)"
   ]
  },
  {
   "cell_type": "code",
   "execution_count": null,
   "metadata": {},
   "outputs": [],
   "source": []
  }
 ],
 "metadata": {
  "kernelspec": {
   "display_name": "casestudy2",
   "language": "python",
   "name": "python3"
  },
  "language_info": {
   "codemirror_mode": {
    "name": "ipython",
    "version": 3
   },
   "file_extension": ".py",
   "mimetype": "text/x-python",
   "name": "python",
   "nbconvert_exporter": "python",
   "pygments_lexer": "ipython3",
   "version": "3.8.16"
  },
  "orig_nbformat": 4
 },
 "nbformat": 4,
 "nbformat_minor": 2
}
